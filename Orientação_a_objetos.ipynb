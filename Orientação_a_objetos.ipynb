{
  "nbformat": 4,
  "nbformat_minor": 0,
  "metadata": {
    "colab": {
      "name": "Orientação a objetos.ipynb",
      "provenance": [],
      "authorship_tag": "ABX9TyMi3THtxgeQHEmoK3o8GSK9",
      "include_colab_link": true
    },
    "kernelspec": {
      "name": "python3",
      "display_name": "Python 3"
    },
    "language_info": {
      "name": "python"
    }
  },
  "cells": [
    {
      "cell_type": "markdown",
      "metadata": {
        "id": "view-in-github",
        "colab_type": "text"
      },
      "source": [
        "<a href=\"https://colab.research.google.com/github/andson25/Repositorio-teste/blob/main/Orienta%C3%A7%C3%A3o_a_objetos.ipynb\" target=\"_parent\"><img src=\"https://colab.research.google.com/assets/colab-badge.svg\" alt=\"Open In Colab\"/></a>"
      ]
    },
    {
      "cell_type": "code",
      "execution_count": 12,
      "metadata": {
        "colab": {
          "base_uri": "https://localhost:8080/"
        },
        "id": "E-mKxiEpDlcj",
        "outputId": "7b5038eb-5d67-477e-a0b6-4a2a239517b7"
      },
      "outputs": [
        {
          "output_type": "stream",
          "name": "stdout",
          "text": [
            "Ana Karolina\n",
            "26\n",
            "Feminino\n"
          ]
        }
      ],
      "source": [
        "class Pessoas:\n",
        " def __init__(self, nome_completo, idade, genero):\n",
        "   self.nome_completo = nome_completo\n",
        "   self.idade = idade\n",
        "   self.genero = genero\n",
        "\n",
        "ana = Pessoas ('Ana Karolina', '26','Feminino')\n",
        "print(ana.nome_completo + \"\\n\"+ ana.idade +\"\\n\" + ana.genero)\n"
      ]
    },
    {
      "cell_type": "code",
      "source": [
        "class Estudantes:\n",
        " def __init__(self, nome_completo, idade, genero):\n",
        "   self.nome_completo = nome_completo\n",
        "   self.idade = idade\n",
        "   self.genero = genero\n",
        "\n",
        "rute = Pessoas ('Rute Fernanda', '9','Feminino')\n",
        "print(rute.nome_completo + \"\\n\"+ rute.idade +\"\\n\" + rute.genero)"
      ],
      "metadata": {
        "colab": {
          "base_uri": "https://localhost:8080/"
        },
        "id": "UKsjAlY1FEHx",
        "outputId": "69e11aa5-5490-4fbf-d28c-2f029ca0af96"
      },
      "execution_count": 13,
      "outputs": [
        {
          "output_type": "stream",
          "name": "stdout",
          "text": [
            "Rute Fernanda\n",
            "9\n",
            "Feminino\n"
          ]
        }
      ]
    },
    {
      "cell_type": "code",
      "source": [
        "class Professores:\n",
        " def __init__(self, nome_completo, idade, genero):\n",
        "   self.nome_completo = nome_completo\n",
        "   self.idade = idade\n",
        "   self.genero = genero\n",
        "\n",
        "andson = Pessoas ('Andson Alberto', '25','Masculino')\n",
        "print(andson.nome_completo + \"\\n\"+ andson.idade +\"\\n\" + andson.genero)"
      ],
      "metadata": {
        "colab": {
          "base_uri": "https://localhost:8080/"
        },
        "id": "NVaCWvkLFdXx",
        "outputId": "d48abbff-1ea8-4a65-dec2-5e5251b0eb25"
      },
      "execution_count": 14,
      "outputs": [
        {
          "output_type": "stream",
          "name": "stdout",
          "text": [
            "Andson Alberto\n",
            "25\n",
            "Masculino\n"
          ]
        }
      ]
    }
  ]
}